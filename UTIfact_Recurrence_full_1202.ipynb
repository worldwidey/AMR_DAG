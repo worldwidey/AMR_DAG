{
 "cells": [
  {
   "cell_type": "code",
   "execution_count": 1,
   "id": "rational-evolution",
   "metadata": {},
   "outputs": [],
   "source": [
    "import numpy as np\n",
    "import pandas as pd\n",
    "import utils_jie\n",
    "import sys\n",
    "sys.path.insert(1, './run_FACT')\n",
    "from dataset import data_preprocess\n",
    "from path_search import SearchPathPermutation\n",
    "from path_shap2 import CalPathContribution, TrainFeaturePredictorsResidual\n",
    "import networkx as nx\n",
    "from sklearn.linear_model import LogisticRegression\n",
    "from sklearn.neural_network import MLPClassifier\n",
    "from sklearn.model_selection import train_test_split\n",
    "from sklearn.impute import SimpleImputer\n",
    "from sklearn.preprocessing import StandardScaler\n",
    "import os.path as osp\n",
    "import os\n",
    "import copy\n",
    "import random\n",
    "import xgboost\n",
    "import json\n",
    "data_rnd_seed = 42\n",
    "use_inactive = 1\n",
    "model_rnd_seed = 42\n",
    "begin_idx = 1\n",
    "dataset = 'uti'"
   ]
  },
  {
   "cell_type": "code",
   "execution_count": 2,
   "id": "eleven-deputy",
   "metadata": {},
   "outputs": [],
   "source": [
    "# Initialization\n",
    "A_name = 'Race_bin'\n",
    "y_label = 'Recurrence'\n",
    "Graph_idx = 2\n",
    "model_class = 'xgboost'\n",
    "\n",
    "out_dir = \"./results/\"\n",
    "\n",
    "#df_tmp = pd.read_csv('hivdataforfacts.csv', index_col=0)\n",
    "f_names = ['Race_bin','Sex','UTI_Age','CI_score','Area','Median_household_income','Crime_rate','Medical_rate','Uninsured_perc']"
   ]
  },
  {
   "cell_type": "code",
   "execution_count": 3,
   "id": "southeast-apollo",
   "metadata": {
    "tags": []
   },
   "outputs": [
    {
     "data": {
      "text/plain": [
       "PID                          int64\n",
       "Recurrence                   int64\n",
       "Sex                          int64\n",
       "Race_bin                     int64\n",
       "UTI_Age                      int64\n",
       "CI_score                     int64\n",
       "Area                         int64\n",
       "Median_household_income    float64\n",
       "Crime_rate                 float64\n",
       "Medical_rate               float64\n",
       "Uninsured_perc             float64\n",
       "dtype: object"
      ]
     },
     "metadata": {},
     "output_type": "display_data"
    }
   ],
   "source": [
    "# read data binary\n",
    "#df_ex = pd.read_csv('hivdataforfacts.csv', usecols=['HIV_diagnosis','city','gender','msm','race','ethnicity','age','drug_abuse','income','education','health_insurance','ruralityNum','healthcare_facilities','drinking','violent_crime','smoking','rurality'])\n",
    "#df_ex.rename(columns = {'edu':'EDUCATION', 'employment2':'EMPLOYMENT', 'financial2':'FINANCIAL', 'livingcon':'LIVING_CON', \n",
    "#                        'livingsuply':'LIVING_SUPLY', 'insurance2':'insurance_type'}, inplace = True)\n",
    "\n",
    "# read data three level #\n",
    "df_ex = pd.read_csv('data_combined_only.csv',\n",
    "                    usecols=['PID','Recurrence','Race_bin','Sex','UTI_Age','CI_score','Area','Median_household_income','Crime_rate','Medical_rate','Uninsured_perc'])\n",
    "#df_ex.rename(columns = {'edu3':'EDUCATION', 'employment3':'EMPLOYMENT', 'financial3':'FINANCIAL', 'livingcon3':'LIVING_CON', \n",
    "#                      'livingsuply3':'LIVING_SUPLY', 'insurance3':'insurance_type'}, inplace = True)\n",
    "df_ex.head(5)\n",
    "display(df_ex.dtypes)\n",
    "df_ex = df_ex.astype({\"Sex\":'int'}) "
   ]
  },
  {
   "cell_type": "code",
   "execution_count": 4,
   "id": "leading-cathedral",
   "metadata": {
    "jupyter": {
     "outputs_hidden": true
    },
    "tags": []
   },
   "outputs": [],
   "source": [
    "# analyze data\n",
    "#df_ex = pd.merge(df_tmp[['PATID', 'race_ethnicity', 'HbA1c', 'Outcome', 'ndi', y_label]], df_ex)\n",
    "#print(df_ex.groupby('race_ethnicity')['race_ethnicity'].agg('count'))\n",
    "#print(df_ex.groupby('EDUCATION')['EDUCATION'].agg('count'))\n",
    "#print(df_ex.groupby('EMPLOYMENT')['EMPLOYMENT'].agg('count'))\n",
    "#print(df_ex.groupby('FINANCIAL')['FINANCIAL'].agg('count'))\n",
    "#print(df_ex.groupby('LIVING_CON')['LIVING_CON'].agg('count'))\n",
    "#print(df_ex.groupby('LIVING_SUPLY')['LIVING_SUPLY'].agg('count'))\n",
    "#print(df_ex.groupby('insurance_type')['insurance_type'].agg('count'))\n",
    "#print(df_ex.groupby('Outcome')['Outcome'].agg('count'))\n",
    "#df_ex['race_ethnicity'] = df_ex['race_ethnicity'][df_ex['race_ethnicity'] == 'NHB']\n",
    "#df_ex"
   ]
  },
  {
   "cell_type": "code",
   "execution_count": 5,
   "id": "understood-telescope",
   "metadata": {},
   "outputs": [
    {
     "data": {
      "text/plain": [
       "[('Area', 'Medical_rate', {'From': 'Area'}),\n",
       " ('Area', 'Crime_rate', {'From': 'Area'}),\n",
       " ('Area', 'Income', {'From': None}),\n",
       " ('Medical_rate', 'CI_score', {'From': 'Medical_rate'}),\n",
       " ('Race_bin', 'CI_score', {'From': 'Race_bin'}),\n",
       " ('Race_bin', 'Crime_rate', {'From': 'Race_bin'}),\n",
       " ('Race_bin', 'Median_household_income', {'From': 'Race_bin'}),\n",
       " ('Race_bin', 'Uninsured_perc', {'From': 'Race_bin'}),\n",
       " ('CI_score', 'Uninsured_perc', {'From': None}),\n",
       " ('Median_household_income', 'CI_score', {'From': 'Median_household_income'}),\n",
       " ('Median_household_income',\n",
       "  'Uninsured_perc',\n",
       "  {'From': 'Median_household_income'}),\n",
       " ('Uninsured_perc', 'Medical_rate', {'From': 'Uninsured_perc'}),\n",
       " ('Sex', 'Median_household_income', {'From': 'Sex'}),\n",
       " ('Sex', 'CI_score', {'From': 'Sex'}),\n",
       " ('Sex', 'Uninsured_perc', {'From': 'Sex'}),\n",
       " ('UTI_Age', 'CI_score', {'From': 'UTI_Age'}),\n",
       " ('UTI_Age', 'Uninsured_perc', {'From': 'UTI_Age'})]"
      ]
     },
     "execution_count": 5,
     "metadata": {},
     "output_type": "execute_result"
    }
   ],
   "source": [
    "# read edge data\n",
    "edge_list = utils_jie.load_graph_edges('utigraphforfacts_recurrence_full_wo_outcome.csv')\n",
    "edge_list"
   ]
  },
  {
   "cell_type": "code",
   "execution_count": 6,
   "id": "personalized-grant",
   "metadata": {},
   "outputs": [
    {
     "data": {
      "text/html": [
       "<div>\n",
       "<style scoped>\n",
       "    .dataframe tbody tr th:only-of-type {\n",
       "        vertical-align: middle;\n",
       "    }\n",
       "\n",
       "    .dataframe tbody tr th {\n",
       "        vertical-align: top;\n",
       "    }\n",
       "\n",
       "    .dataframe thead th {\n",
       "        text-align: right;\n",
       "    }\n",
       "</style>\n",
       "<table border=\"1\" class=\"dataframe\">\n",
       "  <thead>\n",
       "    <tr style=\"text-align: right;\">\n",
       "      <th></th>\n",
       "      <th>PID</th>\n",
       "      <th>Recurrence</th>\n",
       "      <th>Sex</th>\n",
       "      <th>Race_bin</th>\n",
       "      <th>UTI_Age</th>\n",
       "      <th>CI_score</th>\n",
       "      <th>Area</th>\n",
       "      <th>Median_household_income</th>\n",
       "      <th>Crime_rate</th>\n",
       "      <th>Medical_rate</th>\n",
       "      <th>Uninsured_perc</th>\n",
       "    </tr>\n",
       "  </thead>\n",
       "  <tbody>\n",
       "    <tr>\n",
       "      <th>0</th>\n",
       "      <td>28</td>\n",
       "      <td>1</td>\n",
       "      <td>1</td>\n",
       "      <td>1</td>\n",
       "      <td>77</td>\n",
       "      <td>23</td>\n",
       "      <td>0</td>\n",
       "      <td>40130.5</td>\n",
       "      <td>0.32</td>\n",
       "      <td>189.30</td>\n",
       "      <td>25.6</td>\n",
       "    </tr>\n",
       "    <tr>\n",
       "      <th>1</th>\n",
       "      <td>45</td>\n",
       "      <td>0</td>\n",
       "      <td>1</td>\n",
       "      <td>0</td>\n",
       "      <td>55</td>\n",
       "      <td>5</td>\n",
       "      <td>0</td>\n",
       "      <td>40792.9</td>\n",
       "      <td>0.36</td>\n",
       "      <td>186.84</td>\n",
       "      <td>25.1</td>\n",
       "    </tr>\n",
       "    <tr>\n",
       "      <th>2</th>\n",
       "      <td>48</td>\n",
       "      <td>0</td>\n",
       "      <td>1</td>\n",
       "      <td>1</td>\n",
       "      <td>67</td>\n",
       "      <td>6</td>\n",
       "      <td>0</td>\n",
       "      <td>42550.0</td>\n",
       "      <td>0.35</td>\n",
       "      <td>200.09</td>\n",
       "      <td>21.9</td>\n",
       "    </tr>\n",
       "    <tr>\n",
       "      <th>3</th>\n",
       "      <td>61</td>\n",
       "      <td>0</td>\n",
       "      <td>1</td>\n",
       "      <td>1</td>\n",
       "      <td>75</td>\n",
       "      <td>9</td>\n",
       "      <td>0</td>\n",
       "      <td>40412.2</td>\n",
       "      <td>0.30</td>\n",
       "      <td>185.82</td>\n",
       "      <td>27.3</td>\n",
       "    </tr>\n",
       "    <tr>\n",
       "      <th>4</th>\n",
       "      <td>65</td>\n",
       "      <td>0</td>\n",
       "      <td>1</td>\n",
       "      <td>1</td>\n",
       "      <td>86</td>\n",
       "      <td>9</td>\n",
       "      <td>0</td>\n",
       "      <td>40412.2</td>\n",
       "      <td>0.30</td>\n",
       "      <td>185.82</td>\n",
       "      <td>27.3</td>\n",
       "    </tr>\n",
       "  </tbody>\n",
       "</table>\n",
       "</div>"
      ],
      "text/plain": [
       "   PID  Recurrence  Sex  Race_bin  UTI_Age  CI_score  Area  \\\n",
       "0   28           1    1         1       77        23     0   \n",
       "1   45           0    1         0       55         5     0   \n",
       "2   48           0    1         1       67         6     0   \n",
       "3   61           0    1         1       75         9     0   \n",
       "4   65           0    1         1       86         9     0   \n",
       "\n",
       "   Median_household_income  Crime_rate  Medical_rate  Uninsured_perc  \n",
       "0                  40130.5        0.32        189.30            25.6  \n",
       "1                  40792.9        0.36        186.84            25.1  \n",
       "2                  42550.0        0.35        200.09            21.9  \n",
       "3                  40412.2        0.30        185.82            27.3  \n",
       "4                  40412.2        0.30        185.82            27.3  "
      ]
     },
     "execution_count": 6,
     "metadata": {},
     "output_type": "execute_result"
    }
   ],
   "source": [
    "df_ex.head(5)"
   ]
  },
  {
   "cell_type": "code",
   "execution_count": 7,
   "id": "ranging-perry",
   "metadata": {},
   "outputs": [
    {
     "data": {
      "text/plain": [
       "'Recurrence'"
      ]
     },
     "execution_count": 7,
     "metadata": {},
     "output_type": "execute_result"
    }
   ],
   "source": [
    "y_label"
   ]
  },
  {
   "cell_type": "code",
   "execution_count": 8,
   "id": "comparative-component",
   "metadata": {},
   "outputs": [],
   "source": [
    "# read edge data\n",
    "edge_list = utils_jie.load_graph_edges('utigraphforfacts_recurrence_full_wo_outcome.csv')\n",
    "data_dict, f_types, f_map = \\\n",
    "    utils_jie.preprocessing_data(df_ex, f_names, y_label, A_name, 0.3, 42)\n",
    "\n",
    "X_train, X_train_ori, y_train, a_train = \\\n",
    "    data_dict['X_train'], data_dict['X_train_ori'], data_dict['y_train'], data_dict['a_train']\n",
    "X_test, X_test_ori, y_test, a_test = \\\n",
    "    data_dict['X_test'], data_dict['X_test_ori'], data_dict['y_test'], data_dict['a_test']"
   ]
  },
  {
   "cell_type": "code",
   "execution_count": 9,
   "id": "nervous-student",
   "metadata": {},
   "outputs": [],
   "source": [
    "def path_transfer(path_dict):\n",
    "    new_path_dict = {}\n",
    "    for path in path_dict:\n",
    "        new_path = \"-\".join(list(path))\n",
    "        new_path_dict[new_path] = path_dict[path]\n",
    "\n",
    "    return new_path_dict"
   ]
  },
  {
   "cell_type": "code",
   "execution_count": 10,
   "id": "difficult-anthropology",
   "metadata": {},
   "outputs": [],
   "source": [
    "G = nx.Graph()\n",
    "G.add_nodes_from(f_names)\n",
    "G.add_edges_from(edge_list)\n",
    "active_nodes, dir_pre_dict, node_permutations, edge_permutations, path_permutations = SearchPathPermutation(G, A_name)\n",
    "graph_info = {\"f_map\": f_map, \"active_nodes\": active_nodes, \"dir_pre_dict\": dir_pre_dict, \"A_name\": A_name}"
   ]
  },
  {
   "cell_type": "code",
   "execution_count": 11,
   "id": "prepared-premises",
   "metadata": {
    "scrolled": false
   },
   "outputs": [],
   "source": [
    "predictors, X_train_res, X_test_res, active_idx, inactive_idx = TrainFeaturePredictorsResidual(graph_info, X_train, X_test, f_types)\n",
    "graph_info[\"active_idx\"], graph_info[\"inactive_idx\"] = active_idx, inactive_idx"
   ]
  },
  {
   "cell_type": "code",
   "execution_count": 12,
   "id": "concerned-watson",
   "metadata": {},
   "outputs": [],
   "source": [
    "if model_class == \"mlp\":\n",
    "    model = MLPClassifier(hidden_layer_sizes=(8,), random_state=model_rnd_seed, warm_start=True)\n",
    "    model.fit(X_train[:, begin_idx:], y_train)\n",
    "    pred_train = model.predict(X_train[:, begin_idx:])\n",
    "    pred_test = model.predict(X_test[:, begin_idx:])\n",
    "elif model_class == \"xgboost\":\n",
    "    model = xgboost.train({\"learning_rate\": 0.01}, xgboost.DMatrix(X_train[:, begin_idx:], label=y_train), 1000)\n",
    "    pred_train = (model.predict(xgboost.DMatrix(X_train[:, begin_idx:])) > 0.5)\n",
    "    pred_test = (model.predict(xgboost.DMatrix(X_test[:, begin_idx:])) > 0.5)\n",
    "else:\n",
    "    model = LogisticRegression(random_state=model_rnd_seed)\n",
    "    model.fit(X_train[:, begin_idx:], y_train)\n",
    "    pred_train = model.predict(X_train[:, begin_idx:])\n",
    "    pred_test = model.predict(X_test[:, begin_idx:])"
   ]
  },
  {
   "cell_type": "code",
   "execution_count": 13,
   "id": "clinical-honduras",
   "metadata": {},
   "outputs": [
    {
     "name": "stdout",
     "output_type": "stream",
     "text": [
      "Total GT DP -0.012067299584152896\n",
      "Total DP -0.0023478559323851823 -0.005000787342147216\n",
      "0.007942811755361398 0.008802816901408451\n",
      "0.007352941176470588 0.03007518796992481\n",
      "Total EO -0.0023478559323851823 -0.005000787342147216\n",
      "Train Accuracy 0.8398002305032655\n",
      "Test Accuracy 0.8145161290322581\n",
      "Number of permutation 3\n"
     ]
    }
   ],
   "source": [
    "DP_train = pred_train[a_train == 1].mean() - pred_train[a_train == 0].mean()\n",
    "DP_test = pred_test[a_test == 1].mean() - pred_test[a_test == 0].mean()\n",
    "print(\"Total GT DP\", y_test[a_test == 1].mean() - y_test[a_test == 0].mean())\n",
    "print(\"Total DP\", DP_train, DP_test)\n",
    "\n",
    "print((pred_test[y_test == 0])[a_test[y_test == 0] == 1].mean(),\n",
    "      (pred_test[y_test == 0])[a_test[y_test == 0] == 0].mean())\n",
    "print((pred_test[y_test == 1])[a_test[y_test == 1] == 1].mean(),\n",
    "      (pred_test[y_test == 1])[a_test[y_test == 1] == 0].mean())\n",
    "print(\"Total EO\", DP_train, DP_test)\n",
    "Acc_train = (pred_train == y_train).mean()\n",
    "Acc_test = (pred_test == y_test).mean()\n",
    "print(\"Train Accuracy\", Acc_train)\n",
    "print(\"Test Accuracy\", Acc_test)\n",
    "print(\"Number of permutation\", len(path_permutations))\n",
    "path_ctb_dp_train = {tuple(node): [] for node in path_permutations[0]}\n",
    "path_ctb_acc_train = {tuple(node): [] for node in path_permutations[0]}\n",
    "path_ctb_dp_test = {tuple(node): [] for node in path_permutations[0]}\n",
    "path_ctb_acc_test = {tuple(node): [] for node in path_permutations[0]}"
   ]
  },
  {
   "cell_type": "code",
   "execution_count": 14,
   "id": "protected-stroke",
   "metadata": {
    "scrolled": true,
    "tags": []
   },
   "outputs": [
    {
     "name": "stdout",
     "output_type": "stream",
     "text": [
      "Path#Contribution to Disparity#Contribution to Accuracy\n",
      "('Race_bin', 'Crime_rate') # -0.00021772262138036158 # 0.00014934289127836267\n",
      "('Race_bin', 'Median_household_income') # 0.001741780971042891 # 0.0005973715651134507\n",
      "('Race_bin', 'CI_score:Medical_rate:Uninsured_perc') # -0.002177226213803614 # -0.00029868578255672534\n",
      "('Race_bin', 'Median_household_income', 'CI_score:Medical_rate:Uninsured_perc') # 0.0006531678641410847 # -0.0013440860215053752\n"
     ]
    }
   ],
   "source": [
    "rnd_idxes = [idx for idx in range(len(path_permutations))]\n",
    "random.shuffle(rnd_idxes)\n",
    "s_size = min(5, len(path_permutations))\n",
    "for rnd_idx in rnd_idxes[:s_size]:\n",
    "    path_ctb_dp_train, path_ctb_acc_train = CalPathContribution(model, predictors, graph_info, X_train, a_train,\n",
    "                                                                y_train, X_train_res, path_permutations[rnd_idx],\n",
    "                                                                node_permutations[rnd_idx], path_ctb_dp_train,\n",
    "                                                                path_ctb_acc_train)\n",
    "    path_ctb_dp_test, path_ctb_acc_test = CalPathContribution(model, predictors, graph_info, X_test, a_test,\n",
    "                                                              y_test, X_test_res, path_permutations[rnd_idx],\n",
    "                                                              node_permutations[rnd_idx], path_ctb_dp_test,\n",
    "                                                              path_ctb_acc_test)\n",
    "\n",
    "print(\"Path#Contribution to Disparity#Contribution to Accuracy\")\n",
    "for path_key in path_ctb_acc_test:\n",
    "    if len(path_ctb_acc_test[path_key]) > 0 and \"R#\" not in path_key[0]:\n",
    "        path_ctb_dp_train[path_key] = np.array(path_ctb_dp_train[path_key]).mean()\n",
    "        path_ctb_acc_train[path_key] = np.array(path_ctb_acc_train[path_key]).mean()\n",
    "        path_ctb_dp_test[path_key] = np.array(path_ctb_dp_test[path_key]).mean()\n",
    "        path_ctb_acc_test[path_key] = np.array(path_ctb_acc_test[path_key]).mean()\n",
    "        print(path_key, \"#\", path_ctb_dp_test[path_key], \"#\", path_ctb_acc_test[path_key])"
   ]
  },
  {
   "cell_type": "code",
   "execution_count": 15,
   "id": "growing-craft",
   "metadata": {},
   "outputs": [],
   "source": [
    "out_fname = osp.join(out_dir, f\"FACTS_{model_class}_Output_{y_label}_Graph{Graph_idx}_recurrence_full_1202.json\")\n",
    "\n",
    "if not osp.exists(out_dir):\n",
    "    os.makedirs(out_dir)\n",
    "with open(out_fname, \"w\") as out_f:\n",
    "    out_str = json.dumps(\n",
    "        {'path_ctb_dp_train': path_transfer(path_ctb_dp_train), 'path_ctb_acc_train': path_transfer(path_ctb_acc_train),\n",
    "         'path_ctb_dp_test': path_transfer(path_ctb_dp_test), 'path_ctb_acc_test': path_transfer(path_ctb_acc_test),\n",
    "         'DP_train': DP_train, 'DP_test': DP_test, 'Acc_train': Acc_train, 'Acc_test': Acc_test})\n",
    "    out_f.write(out_str)"
   ]
  },
  {
   "cell_type": "code",
   "execution_count": null,
   "id": "allied-imperial",
   "metadata": {},
   "outputs": [],
   "source": []
  }
 ],
 "metadata": {
  "kernelspec": {
   "display_name": "UFRC Python-3.10",
   "language": "python",
   "name": "python3-3.10-ufrc"
  },
  "language_info": {
   "codemirror_mode": {
    "name": "ipython",
    "version": 3
   },
   "file_extension": ".py",
   "mimetype": "text/x-python",
   "name": "python",
   "nbconvert_exporter": "python",
   "pygments_lexer": "ipython3",
   "version": "3.10.5"
  }
 },
 "nbformat": 4,
 "nbformat_minor": 5
}
